{
 "cells": [
  {
   "cell_type": "markdown",
   "metadata": {
    "collapsed": true,
    "pycharm": {
     "name": "#%% md\n"
    }
   },
   "source": [
    "## Data Wrangling report\n",
    "##### by Japheth Rutoh\n",
    "#### Data: WeRateDogs dataset\n",
    "\n",
    "\n",
    "This report describes briefly the efforts made in wrangling the data from WeRateDogs twitter."
   ]
  },
  {
   "cell_type": "markdown",
   "metadata": {
    "pycharm": {
     "name": "#%% md\n"
    }
   },
   "source": [
    "The WeRateDogs dataset was found in three separate sources. These are the following:\n",
    "- A provided flat file - <code>twitter-archive-enhanced.csv</code>\n",
    "- A link provided to get data hosted privately by Udacity - <code>image_predictions.tsv</code>\n",
    "- Data retrieved using the Twitter Api - <code>tweet_json.txt</code>\n",
    "\n",
    "\n",
    "For the first data the <code>pandas</code> library was required to read the flat file; with the use of\n",
    "pd.read_csv().\n",
    "\n",
    "The hosted link required the use of Python's inbuilt library <code>requests</code> and <code>BeautifulSoup</code>\n",
    "to parse through the response, in order to get the required data.\n",
    "\n",
    "The data on twitter was retrieved using <code>tweepy</code> , a twitter API. The data\n",
    "received was in JSON format and this required Python's <code>json</code>\n",
    "library."
   ]
  },
  {
   "cell_type": "markdown",
   "metadata": {
    "pycharm": {
     "name": "#%% md\n"
    }
   },
   "source": [
    "The next step of the wrangling process used was **Assessment**. Visual and programmatic assessments were used in this step.\n",
    "\n",
    "For visual assessment, scrolling through the datasets in tabular form. This helped find the most issues in the data.\n",
    "\n",
    "Programmatic assessment required use of pandas <code>pd.DataFrame.info()</code>, <code>pd.DataFrame.head()</code> , <code>pd.DataFrame.describe()</code> functions and many more."
   ]
  },
  {
   "cell_type": "markdown",
   "metadata": {
    "pycharm": {
     "name": "#%% md\n"
    }
   },
   "source": [
    "The next step was to briefly document each issue as we found it. This helped to\n",
    "make it easy later in the cleaning process.\n",
    "\n",
    "This section is divided into two:\n",
    "\n",
    "- Detecting **Quality** issues\n",
    "    >   Issues that prevent us from doing useful analysis on the data.\n",
    "- Detecting **Tidiness** issues\n",
    "    >   Issues that affect the structure of the data.\n"
   ]
  },
  {
   "cell_type": "markdown",
   "metadata": {
    "pycharm": {
     "name": "#%% md\n"
    }
   },
   "source": [
    "The next step was going through each of the issues and fixing them. This is the **cleaning** process.\n",
    "For each issue, we first described how we would solve the issue in the **define** step, then we fixed the issue in the **code** step.\n",
    "After coding, came the **test** step where we wrote code to check if the issue was fixed."
   ]
  },
  {
   "cell_type": "markdown",
   "metadata": {
    "pycharm": {
     "name": "#%% md\n"
    }
   },
   "source": [
    "> **NB**: While fixing some issues we would find newer issues that needed fixing.\n",
    "> This proved a point in the Wrangling process that this process is *iterative.*\n",
    "\n"
   ]
  },
  {
   "cell_type": "markdown",
   "metadata": {
    "pycharm": {
     "name": "#%% md\n"
    }
   },
   "source": [
    "In this whole process we found and fixed 13 issues found in the dataset."
   ]
  },
  {
   "cell_type": "markdown",
   "metadata": {
    "pycharm": {
     "name": "#%% md\n"
    }
   },
   "source": [
    "After finishing up the wrangling process, we needed to save the final data in a format\n",
    "for later use. We saved the gathered, assessed and cleaned data in <code>twitter_archive_master.csv</code>."
   ]
  },
  {
   "cell_type": "markdown",
   "metadata": {
    "pycharm": {
     "name": "#%% md\n"
    }
   },
   "source": [
    "Next we provided insights we found while wrangling the data in a few sentences.\n",
    "\n",
    "The final step was to provide a few visualizations to back the insights found in the\n",
    "data wrangling process."
   ]
  },
  {
   "cell_type": "markdown",
   "source": [],
   "metadata": {
    "collapsed": false,
    "pycharm": {
     "name": "#%% md\n"
    }
   }
  }
 ],
 "metadata": {
  "kernelspec": {
   "display_name": "Python 3",
   "language": "python",
   "name": "python3"
  },
  "language_info": {
   "codemirror_mode": {
    "name": "ipython",
    "version": 3
   },
   "file_extension": ".py",
   "mimetype": "text/x-python",
   "name": "python",
   "nbconvert_exporter": "python",
   "pygments_lexer": "ipython3",
   "version": "3.10.4"
  }
 },
 "nbformat": 4,
 "nbformat_minor": 1
}